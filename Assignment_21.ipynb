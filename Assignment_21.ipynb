{
 "cells": [
  {
   "cell_type": "code",
   "execution_count": null,
   "id": "cbb88c95",
   "metadata": {},
   "outputs": [],
   "source": [
    "1. Add the current date to the text file today.txt as a string."
   ]
  },
  {
   "cell_type": "code",
   "execution_count": 1,
   "id": "9444e3ea",
   "metadata": {},
   "outputs": [],
   "source": [
    "from datetime import date\n",
    "\n",
    "now = date.today()\n",
    "now_str = now.isoformat()\n",
    "\n",
    "with open('today', 'wt') as output:\n",
    "    print(now_str, file=output)"
   ]
  },
  {
   "cell_type": "code",
   "execution_count": null,
   "id": "6e09bec3",
   "metadata": {},
   "outputs": [],
   "source": [
    "2. Read the text file today.txt into the string today_string"
   ]
  },
  {
   "cell_type": "code",
   "execution_count": 2,
   "id": "9631d7d3",
   "metadata": {},
   "outputs": [
    {
     "data": {
      "text/plain": [
       "'2023-09-08\\n'"
      ]
     },
     "execution_count": 2,
     "metadata": {},
     "output_type": "execute_result"
    }
   ],
   "source": [
    "with open('today', 'rt') as input:\n",
    "    today_string = input.read()\n",
    "    \n",
    "today_string"
   ]
  },
  {
   "cell_type": "code",
   "execution_count": null,
   "id": "52d335e4",
   "metadata": {},
   "outputs": [],
   "source": [
    "3. Parse the date from today_string."
   ]
  },
  {
   "cell_type": "code",
   "execution_count": 5,
   "id": "f7309954",
   "metadata": {},
   "outputs": [
    {
     "name": "stdout",
     "output_type": "stream",
     "text": [
      "2023-09-07\n"
     ]
    }
   ],
   "source": [
    "from datetime import datetime\n",
    "\n",
    "today_string = '2023-09-07'  # Example date string in 'YYYY-MM-DD' format\n",
    "parsed_date = datetime.strptime(today_string, '%Y-%m-%d')\n",
    "\n",
    "parsed_date_only = parsed_date.date()\n",
    "print(parsed_date_only)"
   ]
  },
  {
   "cell_type": "code",
   "execution_count": null,
   "id": "5f1e4bb9",
   "metadata": {},
   "outputs": [],
   "source": [
    "4. List the files in your current directory"
   ]
  },
  {
   "cell_type": "code",
   "execution_count": 7,
   "id": "834e4b6d",
   "metadata": {},
   "outputs": [
    {
     "data": {
      "text/plain": [
       "['.ipynb_checkpoints',\n",
       " 'Assignment_1.ipynb',\n",
       " 'Assignment_10.ipynb',\n",
       " 'Assignment_11.ipynb',\n",
       " 'Assignment_12.ipynb',\n",
       " 'Assignment_13.ipynb',\n",
       " 'Assignment_14.ipynb',\n",
       " 'Assignment_15.ipynb',\n",
       " 'Assignment_16.ipynb',\n",
       " 'Assignment_17.ipynb',\n",
       " 'Assignment_18.ipynb',\n",
       " 'Assignment_19.ipynb',\n",
       " 'Assignment_2.ipynb',\n",
       " 'Assignment_20.ipynb',\n",
       " 'Assignment_3.ipynb',\n",
       " 'Assignment_4.ipynb',\n",
       " 'Assignment_5.ipynb',\n",
       " 'Assignment_6.ipynb',\n",
       " 'Assignment_7.ipynb',\n",
       " 'Assignment_8.ipynb',\n",
       " 'Assignment_9.ipynb',\n",
       " 'books.csv',\n",
       " 'books.db',\n",
       " 'test.txt',\n",
       " 'today',\n",
       " 'Untitled.ipynb',\n",
       " 'zoo.py',\n",
       " '__pycache__']"
      ]
     },
     "execution_count": 7,
     "metadata": {},
     "output_type": "execute_result"
    }
   ],
   "source": [
    "import os\n",
    "os.listdir('.')"
   ]
  },
  {
   "cell_type": "code",
   "execution_count": null,
   "id": "f204df83",
   "metadata": {},
   "outputs": [],
   "source": [
    "5. Create a list of all of the files in your parent directory (minimum five files should be available)."
   ]
  },
  {
   "cell_type": "code",
   "execution_count": 9,
   "id": "684e8e63",
   "metadata": {},
   "outputs": [
    {
     "data": {
      "text/plain": [
       "['.android',\n",
       " '.arduino-create',\n",
       " '.conda',\n",
       " '.condarc',\n",
       " '.continuum',\n",
       " '.dotnet',\n",
       " '.emulator_console_auth_token',\n",
       " '.gitconfig',\n",
       " '.gradle',\n",
       " '.ipynb_checkpoints',\n",
       " '.ipython',\n",
       " '.jdks',\n",
       " '.jupyter',\n",
       " '.m2',\n",
       " '.matplotlib',\n",
       " '.Origin',\n",
       " '.QtWebEngineProcess',\n",
       " '.vscode',\n",
       " 'anaconda3',\n",
       " 'AndroidStudioProjects',\n",
       " 'ansel',\n",
       " 'AppData',\n",
       " 'Application Data',\n",
       " 'Bhagyesh personel',\n",
       " 'Contacts',\n",
       " 'Cookies',\n",
       " 'Desktop',\n",
       " 'Documents',\n",
       " 'Downloads',\n",
       " 'drive-download-20230626T052149Z-001',\n",
       " 'Favorites',\n",
       " 'IntelGraphicsProfiles',\n",
       " 'jupyterfiles',\n",
       " 'Links',\n",
       " 'Local Settings',\n",
       " 'Music',\n",
       " 'My Documents',\n",
       " 'NetHood',\n",
       " 'NTUSER.DAT',\n",
       " 'ntuser.dat.LOG1',\n",
       " 'ntuser.dat.LOG2',\n",
       " 'NTUSER.DAT{a2332f17-cdbf-11ec-8680-002248483d79}.TxR.0.regtrans-ms',\n",
       " 'NTUSER.DAT{a2332f17-cdbf-11ec-8680-002248483d79}.TxR.1.regtrans-ms',\n",
       " 'NTUSER.DAT{a2332f17-cdbf-11ec-8680-002248483d79}.TxR.2.regtrans-ms',\n",
       " 'NTUSER.DAT{a2332f17-cdbf-11ec-8680-002248483d79}.TxR.blf',\n",
       " 'NTUSER.DAT{a2332f18-cdbf-11ec-8680-002248483d79}.TM.blf',\n",
       " 'NTUSER.DAT{a2332f18-cdbf-11ec-8680-002248483d79}.TMContainer00000000000000000001.regtrans-ms',\n",
       " 'NTUSER.DAT{a2332f18-cdbf-11ec-8680-002248483d79}.TMContainer00000000000000000002.regtrans-ms',\n",
       " 'ntuser.ini',\n",
       " 'OneDrive',\n",
       " 'Pictures',\n",
       " 'PrintHood',\n",
       " 'projects',\n",
       " 'PycharmProjects',\n",
       " 'Python_Basic_assignments',\n",
       " 'Recent',\n",
       " 'Saved Games',\n",
       " 'Searches',\n",
       " 'SendTo',\n",
       " 'Start Menu',\n",
       " 'StudioProjects',\n",
       " 'Templates',\n",
       " 'Untitled.ipynb',\n",
       " 'Videos']"
      ]
     },
     "execution_count": 9,
     "metadata": {},
     "output_type": "execute_result"
    }
   ],
   "source": [
    "import os\n",
    "os.listdir('..')"
   ]
  },
  {
   "cell_type": "code",
   "execution_count": null,
   "id": "e0449024",
   "metadata": {},
   "outputs": [],
   "source": [
    "6. Use multiprocessing to create three separate processes. Make each one wait a random number of seconds between one and five, print the current time, and then exit."
   ]
  },
  {
   "cell_type": "code",
   "execution_count": 11,
   "id": "26dec76f",
   "metadata": {},
   "outputs": [
    {
     "name": "stdout",
     "output_type": "stream",
     "text": [
      "All processes have completed, go home now.\n"
     ]
    }
   ],
   "source": [
    "import multiprocessing\n",
    "import time\n",
    "import random\n",
    "from datetime import datetime\n",
    "\n",
    "def print_current_time():\n",
    "    current_time = datetime.now().strftime('%Y-%m-%d %H:%M:%S')\n",
    "    print(f\"Current time: {current_time}\")\n",
    "    \n",
    "def simulate_process(process_id):\n",
    "    wait_time = random.randint(1, 5)\n",
    "    print(f\"Process {process_id} will wait for {wait_time} seconds before printing the current time.\")\n",
    "    time.sleep(wait_time)\n",
    "    print_current_time()\n",
    "    print(f\"Process {process_id} has finished.\")\n",
    "\n",
    "if __name__ == \"__main__\":\n",
    "    \n",
    "    processes = []\n",
    "    for i in range(3):\n",
    "        process = multiprocessing.Process(target=simulate_process, args=(i,))\n",
    "        processes.append(process)\n",
    "        process.start()\n",
    "\n",
    "    for process in processes:\n",
    "        process.join()\n",
    "\n",
    "    print(\"All processes have completed, go home now.\")\n"
   ]
  },
  {
   "cell_type": "code",
   "execution_count": null,
   "id": "c810a116",
   "metadata": {},
   "outputs": [],
   "source": [
    "7. Create a date object of your day of birth."
   ]
  },
  {
   "cell_type": "code",
   "execution_count": 21,
   "id": "5e1662c0",
   "metadata": {},
   "outputs": [
    {
     "data": {
      "text/plain": [
       "datetime.date(2000, 5, 22)"
      ]
     },
     "execution_count": 21,
     "metadata": {},
     "output_type": "execute_result"
    }
   ],
   "source": [
    "my_day = date(2000, 5, 22)\n",
    "\n",
    "my_day"
   ]
  },
  {
   "cell_type": "code",
   "execution_count": null,
   "id": "abe1472e",
   "metadata": {},
   "outputs": [],
   "source": [
    "8. What day of the week was your day of birth?"
   ]
  },
  {
   "cell_type": "code",
   "execution_count": 19,
   "id": "0f19e602",
   "metadata": {},
   "outputs": [
    {
     "name": "stdout",
     "output_type": "stream",
     "text": [
      "You were born on a Monday.\n",
      "Well i gess now you know\n"
     ]
    }
   ],
   "source": [
    "from datetime import datetime\n",
    "\n",
    "birthdate = '2000-05-22' \n",
    "\n",
    "birth_date = datetime.strptime(birthdate, '%Y-%m-%d')\n",
    "\n",
    "\n",
    "day_of_week = birth_date.weekday()\n",
    "\n",
    "days_of_week = ['Monday', 'Tuesday', 'Wednesday', 'Thursday', 'Friday', 'Saturday', 'Sunday']\n",
    "\n",
    "\n",
    "\n",
    "print(f'You were born on a {days_of_week[day_of_week]}.')\n",
    "print('Well i gess now you know')\n"
   ]
  },
  {
   "cell_type": "code",
   "execution_count": null,
   "id": "981bf2b0",
   "metadata": {},
   "outputs": [],
   "source": [
    "9. When will you be (or when were you) 10,000 days old?"
   ]
  },
  {
   "cell_type": "code",
   "execution_count": 28,
   "id": "919f624d",
   "metadata": {},
   "outputs": [
    {
     "data": {
      "text/plain": [
       "datetime.date(2025, 1, 11)"
      ]
     },
     "execution_count": 28,
     "metadata": {},
     "output_type": "execute_result"
    }
   ],
   "source": [
    "from datetime import timedelta\n",
    "party_day = my_day + timedelta(days=9000)\n",
    "party_day"
   ]
  },
  {
   "cell_type": "code",
   "execution_count": null,
   "id": "74a17e2e",
   "metadata": {},
   "outputs": [],
   "source": [
    "well i gess i know what i will be celebrating now "
   ]
  }
 ],
 "metadata": {
  "kernelspec": {
   "display_name": "Python 3 (ipykernel)",
   "language": "python",
   "name": "python3"
  },
  "language_info": {
   "codemirror_mode": {
    "name": "ipython",
    "version": 3
   },
   "file_extension": ".py",
   "mimetype": "text/x-python",
   "name": "python",
   "nbconvert_exporter": "python",
   "pygments_lexer": "ipython3",
   "version": "3.10.9"
  }
 },
 "nbformat": 4,
 "nbformat_minor": 5
}
