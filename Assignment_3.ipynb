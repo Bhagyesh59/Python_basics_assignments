{
 "cells": [
  {
   "cell_type": "markdown",
   "id": "8a63ef86",
   "metadata": {},
   "source": [
    "1. Why are functions advantageous to have in your programs?\n",
    "\n",
    "Functions reduce the need for duplicate code. \n",
    "This makes programs shorter, easier to read, and easier to update.\n"
   ]
  },
  {
   "cell_type": "code",
   "execution_count": null,
   "id": "9f9d2759",
   "metadata": {},
   "outputs": [],
   "source": [
    "2. When does the code in a function run: when its specified or when its called?\n",
    "    \n",
    "    The code in a function executes when the function is called, not when the function is defined.\n"
   ]
  },
  {
   "cell_type": "code",
   "execution_count": null,
   "id": "4f72015b",
   "metadata": {},
   "outputs": [],
   "source": [
    "3. What statement creates a function?\n",
    "\n",
    "\n",
    "The def statement defines (that is, creates) a function."
   ]
  },
  {
   "cell_type": "code",
   "execution_count": null,
   "id": "44842553",
   "metadata": {},
   "outputs": [],
   "source": [
    "4. What is the difference between a function and a function call?\n",
    "\n",
    "\n",
    "A function consists of the def statement and the code in its def clause.\n",
    "A function call is what moves the program execution into the function, and the function call evaluates to the function’s return value.\n"
   ]
  },
  {
   "cell_type": "code",
   "execution_count": null,
   "id": "695697cb",
   "metadata": {},
   "outputs": [],
   "source": [
    "5. How many global scopes are there in a Python program? How many local scopes?\n",
    "\n",
    "There is one global scope, and a local scope is created whenever a function is called.\n"
   ]
  },
  {
   "cell_type": "code",
   "execution_count": null,
   "id": "f99023fe",
   "metadata": {},
   "outputs": [],
   "source": [
    "6. What happens to variables in a local scope when the function call returns?\n",
    "\n",
    "When a function returns, the local scope is destroyed, and all the variables in it are forgotten."
   ]
  },
  {
   "cell_type": "code",
   "execution_count": null,
   "id": "ce576d8a",
   "metadata": {},
   "outputs": [],
   "source": [
    "7. What is the concept of a return value? Is it possible to have a return value in an expression?\n",
    "\n",
    "A return value is the value that a function call evaluates to. \n",
    "Like any value, a return value can be used as part of an expression.\n"
   ]
  },
  {
   "cell_type": "code",
   "execution_count": null,
   "id": "a73bee4d",
   "metadata": {},
   "outputs": [],
   "source": [
    "8. If a function does not have a return statement, what is the return value of a call to that function?\n",
    "\n",
    "If there is no return statement for a function, its return value is None.\n"
   ]
  },
  {
   "cell_type": "code",
   "execution_count": null,
   "id": "c76a0766",
   "metadata": {},
   "outputs": [],
   "source": [
    "9. How do you make a function variable refer to the global variable?\n",
    "\n",
    "A global statement will force a variable in a function to refer to the global variable."
   ]
  },
  {
   "cell_type": "code",
   "execution_count": null,
   "id": "db0c7c23",
   "metadata": {},
   "outputs": [],
   "source": [
    "10. What is the data type of None?\n",
    "\n",
    "The data type of None is NoneType."
   ]
  },
  {
   "cell_type": "code",
   "execution_count": null,
   "id": "e115d258",
   "metadata": {},
   "outputs": [],
   "source": [
    "11. What does the sentence import areallyourpetsnamederic do?\n",
    "\n",
    "That import statement imports a module named areallyourpetsnamederic. "
   ]
  },
  {
   "cell_type": "code",
   "execution_count": null,
   "id": "ff2288ca",
   "metadata": {},
   "outputs": [],
   "source": [
    "12. If you had a bacon() feature in a spam module, what would you call it after importing spam?\n",
    "\n",
    "This function can be called with spam.bacon()."
   ]
  },
  {
   "cell_type": "code",
   "execution_count": null,
   "id": "be909e2b",
   "metadata": {},
   "outputs": [],
   "source": [
    "13. What can you do to save a programme from crashing if it encounters an error?\n",
    "\n",
    "Place the line of code that might cause an error in a try clause."
   ]
  },
  {
   "cell_type": "code",
   "execution_count": null,
   "id": "cd55aa03",
   "metadata": {},
   "outputs": [],
   "source": [
    "14. What is the purpose of the try clause? What is the purpose of the except clause?\n",
    "\n",
    "The code that could potentially cause an error goes in the try clause.\n",
    "The code that executes if an error happens goes in the except clause."
   ]
  }
 ],
 "metadata": {
  "kernelspec": {
   "display_name": "Python 3 (ipykernel)",
   "language": "python",
   "name": "python3"
  },
  "language_info": {
   "codemirror_mode": {
    "name": "ipython",
    "version": 3
   },
   "file_extension": ".py",
   "mimetype": "text/x-python",
   "name": "python",
   "nbconvert_exporter": "python",
   "pygments_lexer": "ipython3",
   "version": "3.10.9"
  }
 },
 "nbformat": 4,
 "nbformat_minor": 5
}
