{
 "cells": [
  {
   "cell_type": "code",
   "execution_count": null,
   "id": "a8f569ad",
   "metadata": {},
   "outputs": [],
   "source": [
    "1. Create an assert statement that throws an AssertionError if the variable spam is a negative integer."
   ]
  },
  {
   "cell_type": "code",
   "execution_count": 2,
   "id": "49358aec",
   "metadata": {},
   "outputs": [],
   "source": [
    "assert spam >0"
   ]
  },
  {
   "cell_type": "code",
   "execution_count": null,
   "id": "4a75f7f4",
   "metadata": {},
   "outputs": [],
   "source": [
    "2. Write an assert statement that triggers an AssertionError if the variables eggs and bacon contain strings that are the same as each other, even if their cases are different (that is, 'hello' and 'hello' are considered the same, and 'goodbye' and 'GOODbye' are also considered the same)."
   ]
  },
  {
   "cell_type": "code",
   "execution_count": 5,
   "id": "b34de1c2",
   "metadata": {},
   "outputs": [],
   "source": [
    "assert eggs.lower() != bacon.lower() 'The eggs and bacon variables are the same!' \n",
    "assert eggs.upper() != bacon.upper(), 'The eggs and bacon variables are the same!'\n"
   ]
  },
  {
   "cell_type": "code",
   "execution_count": null,
   "id": "653711c2",
   "metadata": {},
   "outputs": [],
   "source": [
    "3. Create an assert statement that throws an AssertionError every time."
   ]
  },
  {
   "cell_type": "code",
   "execution_count": null,
   "id": "3c8988c8",
   "metadata": {},
   "outputs": [],
   "source": [
    "assert False, \"This assert statement always triggers an AssertionError\""
   ]
  },
  {
   "cell_type": "code",
   "execution_count": null,
   "id": "f43b9603",
   "metadata": {},
   "outputs": [],
   "source": [
    "4. What are the two lines that must be present in your software in order to call logging.debug()?\n"
   ]
  },
  {
   "cell_type": "code",
   "execution_count": null,
   "id": "d058a025",
   "metadata": {},
   "outputs": [],
   "source": [
    " To be able to call logging.debug(), you must have these two lines at the start of your program:\n",
    "\n",
    "import logging\n",
    "logging.basicConfig(level=logging.DEBUG, format=' %(asctime)s - %(levelname)s -  %(message)s')"
   ]
  },
  {
   "cell_type": "code",
   "execution_count": null,
   "id": "e2aef135",
   "metadata": {},
   "outputs": [],
   "source": [
    "5. What are the two lines that your program must have in order to have logging.debug() send a logging message to a file named programLog.txt?"
   ]
  },
  {
   "cell_type": "code",
   "execution_count": null,
   "id": "b5bbc664",
   "metadata": {},
   "outputs": [],
   "source": [
    "To be able to send logging messages to a file named programLog.txt with logging.debug(), you must have these two lines at the start of your program:\n",
    "\n",
    "import logging\n",
    ">>> logging.basicConfig(filename='programLog.txt', level=logging.DEBUG, format=' %(asctime)s -  %(levelname)s -  %(message)s')"
   ]
  },
  {
   "cell_type": "code",
   "execution_count": null,
   "id": "0ad865ca",
   "metadata": {},
   "outputs": [],
   "source": [
    "6. What are the five levels of logging?\n",
    "\n",
    "- DEBUG, INFO, WARNING, ERROR, and CRITICAL"
   ]
  },
  {
   "cell_type": "code",
   "execution_count": null,
   "id": "957822be",
   "metadata": {},
   "outputs": [],
   "source": [
    "7. What line of code would you add to your software to disable all logging messages?\n",
    "\n",
    "- logging.disable(logging.CRITICAL)"
   ]
  },
  {
   "cell_type": "code",
   "execution_count": null,
   "id": "8d88f81a",
   "metadata": {},
   "outputs": [],
   "source": [
    "8.Why is using logging messages better than using print() to display the same message?\n",
    "\n",
    "- You can disable logging messages without removing the logging function calls. You can selectively disable lower-level logging messages. \n",
    "You can create logging messages. \n",
    "Logging messages provides a timestamp."
   ]
  },
  {
   "cell_type": "code",
   "execution_count": null,
   "id": "0fc0f596",
   "metadata": {},
   "outputs": [],
   "source": [
    "9. What are the differences between the Step Over, Step In, and Step Out buttons in the debugger?\n",
    "\n",
    "- The Step In button will move the debugger into a function call. The Step Over button will quickly execute the function call without stepping into it. The Step Out button will quickly execute the rest of the code until it steps out of the function it currently is in."
   ]
  },
  {
   "cell_type": "code",
   "execution_count": null,
   "id": "031f1393",
   "metadata": {},
   "outputs": [],
   "source": [
    "10.After you click Continue, when will the debugger stop ?\n",
    "\n",
    "-  After you click Continue, the debugger will stop when it has reached the end of the program or a line with a breakpoint."
   ]
  },
  {
   "cell_type": "code",
   "execution_count": null,
   "id": "ccd7027c",
   "metadata": {},
   "outputs": [],
   "source": [
    "11. What is the concept of a breakpoint?\n",
    "\n",
    "- A breakpoint is a setting on a line of code that causes the debugger to pause when the program execution reaches the line."
   ]
  }
 ],
 "metadata": {
  "kernelspec": {
   "display_name": "Python 3 (ipykernel)",
   "language": "python",
   "name": "python3"
  },
  "language_info": {
   "codemirror_mode": {
    "name": "ipython",
    "version": 3
   },
   "file_extension": ".py",
   "mimetype": "text/x-python",
   "name": "python",
   "nbconvert_exporter": "python",
   "pygments_lexer": "ipython3",
   "version": "3.10.9"
  }
 },
 "nbformat": 4,
 "nbformat_minor": 5
}
