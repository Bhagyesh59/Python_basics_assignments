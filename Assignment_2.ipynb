{
 "cells": [
  {
   "cell_type": "code",
   "execution_count": null,
   "id": "3704241a",
   "metadata": {},
   "outputs": [],
   "source": [
    "1.What are the two values of the Boolean data type? How do you write them?\n",
    "\n",
    "ANS-\n",
    "The two values for boolean data type are\n",
    "    -True: it represents a true or'on' state.\n",
    "    -False: it represent a false or 'off' state "
   ]
  },
  {
   "cell_type": "code",
   "execution_count": null,
   "id": "7cd3e967",
   "metadata": {},
   "outputs": [],
   "source": [
    "2. What are the three different types of Boolean operators?\n",
    "\n",
    "ANS-\n",
    "AND operator, OR operator, NOT operator"
   ]
  },
  {
   "cell_type": "code",
   "execution_count": null,
   "id": "3efbf866",
   "metadata": {},
   "outputs": [],
   "source": [
    "3. Make a list of each Boolean operator's truth tables. (i.e. every possible combination of Boolean\n",
    "values for the operator and what it evaluate ).\n",
    "\n",
    "ANS-\n",
    "    AND\n",
    "    operand1    operand2    result\n",
    "    false       false       false\n",
    "    false       true        false\n",
    "    true        false       false\n",
    "    true        true        true\n",
    "\n",
    "    \n",
    "    OR\n",
    "    operand1    operand2    result\n",
    "    false       false       false\n",
    "    false       true        true\n",
    "    true        false       true\n",
    "    true        true        true\n",
    "    \n",
    "    NOT\n",
    "    operand     result\n",
    "    false       true\n",
    "    true        false \n"
   ]
  },
  {
   "cell_type": "code",
   "execution_count": null,
   "id": "f25f3241",
   "metadata": {},
   "outputs": [],
   "source": [
    "4. What are the values of the following expressions?\n",
    "(5 > 4) and (3 == 5)\n",
    "not (5 > 4)\n",
    "(5 > 4) or (3 == 5)\n",
    "not ((5 > 4) or (3 == 5))\n",
    "(True and True) and (True == False)\n",
    "(not False) or (not True)\n",
    "\n",
    "ANS-"
   ]
  },
  {
   "cell_type": "code",
   "execution_count": 1,
   "id": "7a3e7c2c",
   "metadata": {},
   "outputs": [
    {
     "data": {
      "text/plain": [
       "False"
      ]
     },
     "execution_count": 1,
     "metadata": {},
     "output_type": "execute_result"
    }
   ],
   "source": [
    "(5 > 4) and (3 == 5)"
   ]
  },
  {
   "cell_type": "code",
   "execution_count": 2,
   "id": "248ae9b4",
   "metadata": {},
   "outputs": [
    {
     "data": {
      "text/plain": [
       "False"
      ]
     },
     "execution_count": 2,
     "metadata": {},
     "output_type": "execute_result"
    }
   ],
   "source": [
    "not (5 > 4)"
   ]
  },
  {
   "cell_type": "code",
   "execution_count": 3,
   "id": "61f5257a",
   "metadata": {},
   "outputs": [
    {
     "data": {
      "text/plain": [
       "True"
      ]
     },
     "execution_count": 3,
     "metadata": {},
     "output_type": "execute_result"
    }
   ],
   "source": [
    "(5 > 4) or (3 == 5)"
   ]
  },
  {
   "cell_type": "code",
   "execution_count": 4,
   "id": "f8814605",
   "metadata": {},
   "outputs": [
    {
     "data": {
      "text/plain": [
       "False"
      ]
     },
     "execution_count": 4,
     "metadata": {},
     "output_type": "execute_result"
    }
   ],
   "source": [
    "not ((5 > 4) or (3 == 5))"
   ]
  },
  {
   "cell_type": "code",
   "execution_count": 5,
   "id": "0ba440ef",
   "metadata": {},
   "outputs": [
    {
     "data": {
      "text/plain": [
       "False"
      ]
     },
     "execution_count": 5,
     "metadata": {},
     "output_type": "execute_result"
    }
   ],
   "source": [
    "(True and True) and (True == False)"
   ]
  },
  {
   "cell_type": "code",
   "execution_count": 6,
   "id": "baec7e65",
   "metadata": {},
   "outputs": [
    {
     "data": {
      "text/plain": [
       "True"
      ]
     },
     "execution_count": 6,
     "metadata": {},
     "output_type": "execute_result"
    }
   ],
   "source": [
    "(not False) or (not True)"
   ]
  },
  {
   "cell_type": "code",
   "execution_count": null,
   "id": "6eda4fa3",
   "metadata": {},
   "outputs": [],
   "source": [
    "5. What are the six comparison operators?\n",
    "\n",
    "ANS-\n",
    "\n",
    "six comparision operators are\n",
    "    - Equal to '=='\n",
    "    - Not equal to '!='  \n",
    "    - Greater than'>'\n",
    "    - Less than '<'\n",
    "    - Greater than or equal to '>='\n",
    "    - Less than or equal to '<='"
   ]
  },
  {
   "cell_type": "code",
   "execution_count": null,
   "id": "1591628c",
   "metadata": {},
   "outputs": [],
   "source": [
    "6. How do you tell the difference between the equal to and assignment operators?Describe a\n",
    "condition and when you would use one.\n",
    "\n",
    "ANS-\n",
    " the difference between equal to('==') operator and the assignment operator are as follows\n",
    "    \n",
    "    Equal to operator('==')\n",
    "    - it is used to compare two values,and returns true if they are equal or false if they are not\n",
    "    -eg 'x==5' \n",
    "    \n",
    "    Assignment operator('=')\n",
    "    - it is used to assign the values to the variable, in which assigned value is on the right and variable is on the left\n",
    "    -eg 'x=5'\n",
    "    \n",
    "    condition\n",
    "    -you the other hand, the assignment operator (=) is used to assign values to variables when you want to store or update data. would use the equal to operator ('==') in conditions where you want to compare values to make decisions.\n",
    "    -On the other hand, the assignment operator ('=')s used to assign values to variables when you want to store or update data."
   ]
  },
  {
   "cell_type": "code",
   "execution_count": null,
   "id": "78d60eab",
   "metadata": {},
   "outputs": [],
   "source": [
    "7. Identify the three blocks in this code:\n",
    "spam = 0\n",
    "if spam == 10:\n",
    "    print('eggs')\n",
    "if spam > 5:\n",
    "    print('bacon')\n",
    "else:\n",
    "    print('ham')\n",
    "    print('spam')\n",
    "    print('spam')\n",
    "\n",
    "ANS-\n",
    "The three block of code are two if statements and one else statement"
   ]
  },
  {
   "cell_type": "code",
   "execution_count": null,
   "id": "66d6e84a",
   "metadata": {},
   "outputs": [],
   "source": [
    "8. Write code that prints Hello if 1 is stored in spam, prints Howdy if 2 is stored in spam, and prints\n",
    "Greetings! if anything else is stored in spam.\n",
    "\n",
    "ANS- \n",
    "\n",
    "spam=\n",
    "\n",
    "if spam==1:\n",
    "    print('Hello')\n",
    "elif spam==2:\n",
    "    print('Howdy')\n",
    "else:\n",
    "    print('Greetings!')"
   ]
  },
  {
   "cell_type": "code",
   "execution_count": null,
   "id": "7e5ec56b",
   "metadata": {},
   "outputs": [],
   "source": [
    "9.If your programme is stuck in an endless loop, what keys you’ll press?\n",
    "\n",
    "ANS-\n",
    "Press CTRL+C to stop a program stuck in an infinite loop.\n"
   ]
  },
  {
   "cell_type": "code",
   "execution_count": null,
   "id": "333b87de",
   "metadata": {},
   "outputs": [],
   "source": [
    "10. How can you tell the difference between break and continue?\n",
    "\n",
    "ANS-\n",
    "-The break statement will move the execution outside and just after a loop. The continue statement will move the execution to the start of the loop.\n",
    "\n",
    "-whenever break statement executed then else block will not be executed \n",
    "whereas\n",
    "In continue ,all the time else block is executed.\n"
   ]
  },
  {
   "cell_type": "code",
   "execution_count": null,
   "id": "a89b3634",
   "metadata": {},
   "outputs": [],
   "source": [
    "11. In a for loop, what is the difference between range(10), range(0, 10), and range(0, 10, 1)?\n",
    "\n",
    "ANS-\n",
    "\n"
   ]
  },
  {
   "cell_type": "code",
   "execution_count": null,
   "id": "708d17e1",
   "metadata": {},
   "outputs": [],
   "source": [
    "12. Write a short program that prints the numbers 1 to 10 using a for loop. Then write an equivalent\n",
    "program that prints the numbers 1 to 10 using a while loop.\n",
    "\n",
    "ANS-\n",
    "range(10)-it generates a sequence of no starting from 0 and ending at 9(10-1) with a default step size of 1\n",
    "range(0, 10)- this also generates a sequence of numbers explicitly starting from 0 and ending at 9(10-1) with a default step size of 1\n",
    "range(0, 10, 1)- this also generates a sequence of numbers explicitly starting from 0 and ending at 9(10-1) with a explicit step size of 1"
   ]
  },
  {
   "cell_type": "code",
   "execution_count": 8,
   "id": "362844b8",
   "metadata": {},
   "outputs": [
    {
     "name": "stdout",
     "output_type": "stream",
     "text": [
      "1\n",
      "2\n",
      "3\n",
      "4\n",
      "5\n",
      "6\n",
      "7\n",
      "8\n",
      "9\n",
      "10\n"
     ]
    }
   ],
   "source": [
    "for i in range(1, 11):\n",
    "    print(i)"
   ]
  },
  {
   "cell_type": "code",
   "execution_count": 9,
   "id": "593c491c",
   "metadata": {},
   "outputs": [
    {
     "name": "stdout",
     "output_type": "stream",
     "text": [
      "1\n",
      "2\n",
      "3\n",
      "4\n",
      "5\n",
      "6\n",
      "7\n",
      "8\n",
      "9\n",
      "10\n"
     ]
    }
   ],
   "source": [
    "i = 1\n",
    "while i <= 10:\n",
    "    print(i)\n",
    "    i = i + 1"
   ]
  },
  {
   "cell_type": "code",
   "execution_count": null,
   "id": "3db163bb",
   "metadata": {},
   "outputs": [],
   "source": [
    "13. If you had a function named bacon() inside a module named spam, how would you call it after\n",
    "importing spam?\n",
    "\n",
    "ANS-\n",
    "\n",
    "This function can be called with \n",
    "spam.bacon()"
   ]
  }
 ],
 "metadata": {
  "kernelspec": {
   "display_name": "Python 3 (ipykernel)",
   "language": "python",
   "name": "python3"
  },
  "language_info": {
   "codemirror_mode": {
    "name": "ipython",
    "version": 3
   },
   "file_extension": ".py",
   "mimetype": "text/x-python",
   "name": "python",
   "nbconvert_exporter": "python",
   "pygments_lexer": "ipython3",
   "version": "3.10.9"
  }
 },
 "nbformat": 4,
 "nbformat_minor": 5
}
