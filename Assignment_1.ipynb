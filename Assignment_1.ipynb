{
 "cells": [
  {
   "cell_type": "markdown",
   "id": "a70d4ae5",
   "metadata": {},
   "source": [
    "1. In the below elements which of them are values or an expression? eg:- values can be\n",
    "integer or string and expressions will be mathematical operators.\n",
    "*\n",
    "'hello'\n",
    "-87.8\n",
    "-\n",
    "/\n",
    "+\n",
    "6\n",
    "\n",
    "Ans-\n",
    "'hello'is a string\n",
    "\n",
    "-87.8 is a float\n",
    "6 is an integer\n",
    "*,-,/,+ are mathematical operations\n",
    "\n"
   ]
  },
  {
   "cell_type": "raw",
   "id": "17d4d318",
   "metadata": {},
   "source": [
    "2. What is the difference between string and variable?\n",
    "\n",
    "ANS-\n",
    "String:\n",
    "    \n",
    "    -A string is a data type used to represent a sequence of characters, it is enclosed in single cotes('') or \n",
    "    double quotes(\"\").\n",
    "    -Strings are used tom store and manipulate text data which can contain letters,numbers,symbols, and whitespaces\n",
    "    -Strings are immutablse meaning their values cannot be changed once they are created, any operation that modifies\n",
    "    a string actually creates a new string\n",
    "    \n",
    "Variable-\n",
    "    -A variable is a name or identifier that represent a value stored in the computer's memory, it is like a contaner\n",
    "    to holle data\n",
    "    -Variable can store different types of dataincluding strings, lists,objects,numbers,etc.The value determines the data \n",
    "    that can be stored in a variable.\n",
    "    -Variables are mutable ,Their values can be modified during the program execution\n",
    "    "
   ]
  },
  {
   "cell_type": "code",
   "execution_count": null,
   "id": "201b2322",
   "metadata": {},
   "outputs": [],
   "source": [
    "3. Describe three different data types.\n",
    "\n",
    "ANS-\n",
    "\n",
    "-Integer(int)- An integer is a data type that represent a whole numbers without decimal points\n",
    "eg 5,0,-5\n",
    "-String(str)- A string is a datatype used to represent a sequence of characters, it contains letters,digits,symbols,whitespaces.\n",
    "eg \"Hello \",\"12345$\".\n",
    "list- A list is a data type that represents an ordered colllection of items,it can store elements of different data types such as integer, string,or eves lists\n",
    "eg [1,2,3,4], [\"hello\",\"nice\",\"to\",\"meet\",\"you\"].\n"
   ]
  },
  {
   "cell_type": "code",
   "execution_count": null,
   "id": "a08e0fb5",
   "metadata": {},
   "outputs": [],
   "source": [
    "4. What is an expression made up of? What do all expressions do?\n",
    "ANS-\n",
    "An expression is made up of operands and operators, It computes a value and can include variables, function calls, and method invocations"
   ]
  },
  {
   "cell_type": "code",
   "execution_count": null,
   "id": "4e47c44d",
   "metadata": {},
   "outputs": [],
   "source": [
    "5. This assignment statements, like spam = 10. What is the difference between an\n",
    "expression and a statement?\n",
    "\n",
    "ANS-\n",
    "Expression\n",
    "    An expression is made up of operands and operators, It produces a result when executed\n",
    "    eg 2+3 , X*5.\n",
    "statement\n",
    "    A statement is a unit of code that performs an action or controls the flow of a program. It doesn't produce a value on its own.\n",
    "    eg ten=10, if-else statements ,loops"
   ]
  },
  {
   "cell_type": "code",
   "execution_count": null,
   "id": "21e0576e",
   "metadata": {},
   "outputs": [],
   "source": [
    "6. After running the following code, what does the variable bacon contain?\n",
    "bacon = 22\n",
    "bacon + 1"
   ]
  },
  {
   "cell_type": "code",
   "execution_count": 2,
   "id": "b55d13ac",
   "metadata": {},
   "outputs": [
    {
     "data": {
      "text/plain": [
       "23"
      ]
     },
     "execution_count": 2,
     "metadata": {},
     "output_type": "execute_result"
    }
   ],
   "source": [
    "bacon = 22\n",
    "bacon+1"
   ]
  },
  {
   "cell_type": "code",
   "execution_count": 3,
   "id": "277b8aa4",
   "metadata": {},
   "outputs": [
    {
     "data": {
      "text/plain": [
       "22"
      ]
     },
     "execution_count": 3,
     "metadata": {},
     "output_type": "execute_result"
    }
   ],
   "source": [
    "bacon"
   ]
  },
  {
   "cell_type": "code",
   "execution_count": null,
   "id": "88fc75c3",
   "metadata": {},
   "outputs": [],
   "source": [
    "7. What should the values of the following two terms be?\n",
    "\"spam\" + \"spamspam\"\n",
    "\"spam\" * 3"
   ]
  },
  {
   "cell_type": "code",
   "execution_count": 4,
   "id": "0a10c995",
   "metadata": {},
   "outputs": [
    {
     "data": {
      "text/plain": [
       "'spamspamspam'"
      ]
     },
     "execution_count": 4,
     "metadata": {},
     "output_type": "execute_result"
    }
   ],
   "source": [
    "\"spam\" + \"spamspam\""
   ]
  },
  {
   "cell_type": "code",
   "execution_count": 5,
   "id": "4d9ebc44",
   "metadata": {},
   "outputs": [
    {
     "data": {
      "text/plain": [
       "'spamspamspam'"
      ]
     },
     "execution_count": 5,
     "metadata": {},
     "output_type": "execute_result"
    }
   ],
   "source": [
    "\"spam\" * 3"
   ]
  },
  {
   "cell_type": "code",
   "execution_count": null,
   "id": "878b25ba",
   "metadata": {},
   "outputs": [],
   "source": [
    "8. Why is eggs a valid variable name while 100 is invalid?\n",
    "\n",
    "ANS- well variable names can contains letters(a-z,A-Z), digits(0-9), and underscors(_).\n",
    "but it should start with letters(a-z,A-Z) or an uderschore(_) and not digit."
   ]
  },
  {
   "cell_type": "code",
   "execution_count": null,
   "id": "678d18a0",
   "metadata": {},
   "outputs": [],
   "source": [
    "9. What three functions can be used to get the integer, floating-point number, or string\n",
    "version of a value?\n",
    "\n",
    "ANS-The int(), float(), and str() functions will evaluate to the integer, floating-point number, and string versions of the value passed to them.\n"
   ]
  },
  {
   "cell_type": "code",
   "execution_count": null,
   "id": "e2e9ff6e",
   "metadata": {},
   "outputs": [],
   "source": [
    "10. Why does this expression cause an error? How can you fix it?\n",
    "'I have eaten'  + 99 + 'burritos.'\n",
    "ANS-\n",
    "The expression causes an error because 99 is an integer, and only strings can be concatenated to other strings with the + operator. \n",
    "The correct way is 'I have eaten' + str(99) + 'burritos.'."
   ]
  }
 ],
 "metadata": {
  "kernelspec": {
   "display_name": "Python 3 (ipykernel)",
   "language": "python",
   "name": "python3"
  },
  "language_info": {
   "codemirror_mode": {
    "name": "ipython",
    "version": 3
   },
   "file_extension": ".py",
   "mimetype": "text/x-python",
   "name": "python",
   "nbconvert_exporter": "python",
   "pygments_lexer": "ipython3",
   "version": "3.10.9"
  }
 },
 "nbformat": 4,
 "nbformat_minor": 5
}
