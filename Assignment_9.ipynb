{
 "cells": [
  {
   "cell_type": "code",
   "execution_count": null,
   "id": "0ec95b8c",
   "metadata": {},
   "outputs": [],
   "source": [
    "1. To what does a relative path refer?\n",
    "\n",
    "- Relative paths are relative to the current working directory."
   ]
  },
  {
   "cell_type": "code",
   "execution_count": null,
   "id": "ca0fb5b7",
   "metadata": {},
   "outputs": [],
   "source": [
    "2. What does an absolute path start with your operating system?\n",
    "\n",
    "- Absolute paths start with the root folder, such as / or C:\\."
   ]
  },
  {
   "cell_type": "code",
   "execution_count": null,
   "id": "3db100e8",
   "metadata": {},
   "outputs": [],
   "source": [
    "3. What do the functions os.getcwd() and os.chdir() do?\n",
    "\n",
    "- The os.getcwd() function returns the current working directory. \n",
    "  The os.chdir() function changes the current working directory."
   ]
  },
  {
   "cell_type": "code",
   "execution_count": null,
   "id": "4977da16",
   "metadata": {},
   "outputs": [],
   "source": [
    " 4. What are the . and .. folders?\n",
    "    \n",
    "- The . folder is the current folder, and .. is the parent folder."
   ]
  },
  {
   "cell_type": "code",
   "execution_count": null,
   "id": "99ce368b",
   "metadata": {},
   "outputs": [],
   "source": [
    "5. In C:\\bacon\\eggs\\spam.txt, which part is the dir name, and which part is the base name?\n",
    "    \n",
    "- C:\\bacon\\eggs is the dir name, while spam.txt is the base name."
   ]
  },
  {
   "cell_type": "code",
   "execution_count": null,
   "id": "bf34461f",
   "metadata": {},
   "outputs": [],
   "source": [
    "6. What are the three “mode” arguments that can be passed to the open() function?\n",
    "\n",
    "- The string 'r' for read mode, 'w' for write mode, and 'a' for append mode."
   ]
  },
  {
   "cell_type": "code",
   "execution_count": null,
   "id": "b6f3bb74",
   "metadata": {},
   "outputs": [],
   "source": [
    " 7. What happens if an existing file is opened in write mode?\n",
    "    \n",
    "- An existing file opened in write mode is erased and completely overwritten."
   ]
  },
  {
   "cell_type": "code",
   "execution_count": null,
   "id": "0ae3910d",
   "metadata": {},
   "outputs": [],
   "source": [
    "8. How do you tell the difference between read() and readlines()?\n",
    "\n",
    "- The read() method returns the file’s entire contents as a single string value. The readlines() method returns a list of strings, where each string is a line from the file’s contents."
   ]
  },
  {
   "cell_type": "code",
   "execution_count": null,
   "id": "070c0427",
   "metadata": {},
   "outputs": [],
   "source": [
    " 9. What data structure does a shelf value resemble?\n",
    "    \n",
    "- A shelf value resembles a dictionary value; it has keys and values, along with keys() and values() methods that work similarly to the dictionary methods of the same names.\n",
    "\n"
   ]
  }
 ],
 "metadata": {
  "kernelspec": {
   "display_name": "Python 3 (ipykernel)",
   "language": "python",
   "name": "python3"
  },
  "language_info": {
   "codemirror_mode": {
    "name": "ipython",
    "version": 3
   },
   "file_extension": ".py",
   "mimetype": "text/x-python",
   "name": "python",
   "nbconvert_exporter": "python",
   "pygments_lexer": "ipython3",
   "version": "3.10.9"
  }
 },
 "nbformat": 4,
 "nbformat_minor": 5
}
