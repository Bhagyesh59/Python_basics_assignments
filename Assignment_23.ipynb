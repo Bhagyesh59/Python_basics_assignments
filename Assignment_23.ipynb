{
 "cells": [
  {
   "cell_type": "code",
   "execution_count": null,
   "id": "580535ca",
   "metadata": {},
   "outputs": [],
   "source": [
    "1. What is the result of the code, and why?"
   ]
  },
  {
   "cell_type": "code",
   "execution_count": 1,
   "id": "2e6fc60d",
   "metadata": {},
   "outputs": [
    {
     "name": "stdout",
     "output_type": "stream",
     "text": [
      "1 2 8\n"
     ]
    }
   ],
   "source": [
    "def func(a, b=6, c=8):\n",
    "    print(a, b, c)\n",
    "    \n",
    "func(1, 2)"
   ]
  },
  {
   "cell_type": "code",
   "execution_count": null,
   "id": "71feaa30",
   "metadata": {},
   "outputs": [],
   "source": [
    "Here as we have hardcoded and sent 2 values therefore preference is given to the input user gives. \n",
    "so a=1,b=2,c as by default argument 8."
   ]
  },
  {
   "cell_type": "code",
   "execution_count": null,
   "id": "fb72280c",
   "metadata": {},
   "outputs": [],
   "source": [
    "2. What is the result of this code, and why?"
   ]
  },
  {
   "cell_type": "code",
   "execution_count": 3,
   "id": "46145958",
   "metadata": {},
   "outputs": [
    {
     "name": "stdout",
     "output_type": "stream",
     "text": [
      "1 2 3\n"
     ]
    }
   ],
   "source": [
    "def func(a, b, c=5):\n",
    "    print(a, b, c)\n",
    "func(1, c=3, b=2)\n",
    "\n"
   ]
  },
  {
   "cell_type": "code",
   "execution_count": null,
   "id": "2dffe59a",
   "metadata": {},
   "outputs": [],
   "source": [
    "here a=1,b=2(hardcoded by user),\n",
    "c=3(hardcoded by user).\n",
    "position doesnt matter as long as we have mentioned the variable to which value is assigned."
   ]
  },
  {
   "cell_type": "code",
   "execution_count": null,
   "id": "35246e6f",
   "metadata": {},
   "outputs": [],
   "source": [
    "3. How about this code: what is its result, and why?"
   ]
  },
  {
   "cell_type": "code",
   "execution_count": 4,
   "id": "c0e0b410",
   "metadata": {},
   "outputs": [
    {
     "name": "stdout",
     "output_type": "stream",
     "text": [
      "1 (2, 3)\n"
     ]
    }
   ],
   "source": [
    "def func(a, *pargs):\n",
    "    print(a, pargs)\n",
    "func(1, 2, 3)"
   ]
  },
  {
   "cell_type": "code",
   "execution_count": null,
   "id": "bdffb873",
   "metadata": {},
   "outputs": [],
   "source": [
    "Here a=1.\n",
    "*pargs returns as many argument user gives as input in form of tuples"
   ]
  },
  {
   "cell_type": "code",
   "execution_count": null,
   "id": "8482cc6d",
   "metadata": {},
   "outputs": [],
   "source": [
    "4. What does this code print, and why?"
   ]
  },
  {
   "cell_type": "code",
   "execution_count": 5,
   "id": "a8e1f5ac",
   "metadata": {},
   "outputs": [
    {
     "name": "stdout",
     "output_type": "stream",
     "text": [
      "1 {'c': 3, 'b': 2}\n"
     ]
    }
   ],
   "source": [
    "def func(a, **kargs):\n",
    "    \n",
    "    print(a, kargs)\n",
    "    \n",
    "func(a=1, c=3, b=2)"
   ]
  },
  {
   "cell_type": "code",
   "execution_count": null,
   "id": "8e66ee20",
   "metadata": {},
   "outputs": [],
   "source": [
    "Here a=1.\n",
    "**kargs returns  as many argument user gives as input in form of dictionary "
   ]
  },
  {
   "cell_type": "code",
   "execution_count": null,
   "id": "ca820700",
   "metadata": {},
   "outputs": [],
   "source": [
    "5. What gets printed by this, and explain?"
   ]
  },
  {
   "cell_type": "code",
   "execution_count": 6,
   "id": "ff9b74ef",
   "metadata": {},
   "outputs": [
    {
     "name": "stdout",
     "output_type": "stream",
     "text": [
      "1 5 6 5\n"
     ]
    }
   ],
   "source": [
    "def func(a, b, c=8, d=5):\n",
    "    print(a, b, c, d)\n",
    "    \n",
    "func(1, *(5, 6))"
   ]
  },
  {
   "cell_type": "code",
   "execution_count": null,
   "id": "9f68d28d",
   "metadata": {},
   "outputs": [],
   "source": [
    "Here a=1.\n",
    "User input is given in the form of **kargs. So as many variable is present that many times the value passed as **kargs input will get printed.\n",
    "So here a=1,b=5,c=6,d= again 5."
   ]
  },
  {
   "cell_type": "code",
   "execution_count": null,
   "id": "3b416396",
   "metadata": {},
   "outputs": [],
   "source": [
    "6. what is the result of this, and explain?"
   ]
  },
  {
   "cell_type": "code",
   "execution_count": 7,
   "id": "36b89afd",
   "metadata": {},
   "outputs": [
    {
     "data": {
      "text/plain": [
       "(1, ['x'], {'a': 'y'})"
      ]
     },
     "execution_count": 7,
     "metadata": {},
     "output_type": "execute_result"
    }
   ],
   "source": [
    "def func(a, b, c):\n",
    "    a = 2; b[0] = 'x'; c['a'] = 'y'\n",
    "l=1; m=[1]; n={'a':0}\n",
    "\n",
    "func(l, m, n)\n",
    "\n",
    "l, m, n\n"
   ]
  },
  {
   "cell_type": "code",
   "execution_count": null,
   "id": "83e12370",
   "metadata": {},
   "outputs": [],
   "source": [
    "Here in func(l,m,n) we passed l=1(user input),\n",
    "m is passed as list contain 1 element i.e 'x', n is passed as dictionary i.e {'a':'y'}"
   ]
  }
 ],
 "metadata": {
  "kernelspec": {
   "display_name": "Python 3 (ipykernel)",
   "language": "python",
   "name": "python3"
  },
  "language_info": {
   "codemirror_mode": {
    "name": "ipython",
    "version": 3
   },
   "file_extension": ".py",
   "mimetype": "text/x-python",
   "name": "python",
   "nbconvert_exporter": "python",
   "pygments_lexer": "ipython3",
   "version": "3.10.9"
  }
 },
 "nbformat": 4,
 "nbformat_minor": 5
}
